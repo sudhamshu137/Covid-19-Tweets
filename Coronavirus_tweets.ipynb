{
 "cells": [
  {
   "cell_type": "code",
   "execution_count": 1,
   "metadata": {
    "id": "YJpiv7O4h28w"
   },
   "outputs": [],
   "source": [
    "import numpy as np\n",
    "import matplotlib.pyplot as plt\n",
    "import pandas as pd"
   ]
  },
  {
   "cell_type": "code",
   "execution_count": 2,
   "metadata": {
    "id": "Hgm8LTVCiZ_K"
   },
   "outputs": [],
   "source": [
    "dataset = pd.read_csv('corona.tsv', delimiter='\\t', quoting=3)"
   ]
  },
  {
   "cell_type": "code",
   "execution_count": 15,
   "metadata": {
    "colab": {
     "base_uri": "https://localhost:8080/"
    },
    "id": "gaDn16Af7Olt",
    "outputId": "130cce43-9b48-4d3b-a085-693ce480ba38"
   },
   "outputs": [
    {
     "name": "stderr",
     "output_type": "stream",
     "text": [
      "[nltk_data] Downloading package stopwords to\n",
      "[nltk_data]     C:\\Users\\supre\\AppData\\Roaming\\nltk_data...\n",
      "[nltk_data]   Package stopwords is already up-to-date!\n"
     ]
    }
   ],
   "source": [
    "import re\n",
    "import nltk\n",
    "import tkinter\n",
    "nltk.download('stopwords')\n",
    "from nltk.corpus import stopwords\n",
    "from nltk.stem.porter import PorterStemmer\n",
    "corpus = []\n",
    "\n",
    "y = dataset.iloc[:, -1].values.tolist()\n",
    "y.pop(-1)\n",
    "removerindex = []\n",
    "\n",
    "for i in range(len(dataset)):\n",
    "\n",
    "  removeurl = dataset['OriginalTweet'][i]\n",
    "  removeurl = removeurl.split()\n",
    "  \n",
    "  for k in range(len(removeurl)):\n",
    "    removeurl[k] = re.sub(r'^https?:\\/\\/.*[\\r\\n]*', '', removeurl[k], flags=re.MULTILINE)\n",
    "  removeurl = ' '.join(removeurl)\n",
    "\n",
    "  removeusernames = filter(lambda x:x[0]!='@', removeurl.split())\n",
    "  removeusernames = ' '.join(removeusernames)\n",
    "\n",
    "  removehash = filter(lambda x:x[0]!='#', removeusernames.split())\n",
    "  removehash = ' '.join(removehash)\n",
    "\n",
    "  tweet = re.sub('[^a-zA-Z]', ' ', removehash)\n",
    "  tweet = tweet.lower()\n",
    "  tweet = tweet.split()\n",
    "  ps = PorterStemmer()\n",
    "  all_stopwords = stopwords.words('english')\n",
    "  tweet = [ps.stem(word) for word in tweet if not word in set(all_stopwords)]\n",
    "  tweet = ' '.join(tweet)\n",
    "  if tweet=='':\n",
    "    removerindex.append(i)\n",
    "  else:\n",
    "    corpus.append(tweet)\n",
    "\n",
    "for h in range(len(removerindex)-1):\n",
    "  y.pop(removerindex[h])"
   ]
  },
  {
   "cell_type": "code",
   "execution_count": 16,
   "metadata": {
    "id": "s5N1QYFanJzH"
   },
   "outputs": [],
   "source": [
    "from sklearn.feature_extraction.text import CountVectorizer\n",
    "cv = CountVectorizer(max_features=25000)\n",
    "x = cv.fit_transform(corpus).toarray()"
   ]
  },
  {
   "cell_type": "code",
   "execution_count": 17,
   "metadata": {
    "id": "HhE_6rLmsZa4"
   },
   "outputs": [],
   "source": [
    "from sklearn.model_selection import train_test_split\n",
    "x_train, x_test, y_train, y_test = train_test_split(x, y, test_size=0.2, random_state=0)"
   ]
  },
  {
   "cell_type": "code",
   "execution_count": 18,
   "metadata": {},
   "outputs": [
    {
     "data": {
      "text/plain": [
       "GaussianNB()"
      ]
     },
     "execution_count": 18,
     "metadata": {},
     "output_type": "execute_result"
    }
   ],
   "source": [
    "from sklearn.naive_bayes import GaussianNB\n",
    "gnb = GaussianNB()\n",
    "gnb.fit(x_train, y_train)"
   ]
  },
  {
   "cell_type": "code",
   "execution_count": 19,
   "metadata": {},
   "outputs": [],
   "source": [
    "y_pred = gnb.predict(x_test)"
   ]
  },
  {
   "cell_type": "code",
   "execution_count": 20,
   "metadata": {},
   "outputs": [
    {
     "name": "stdout",
     "output_type": "stream",
     "text": [
      "[[2675  393]\n",
      " [4279  874]]\n"
     ]
    },
    {
     "data": {
      "text/plain": [
       "0.4316993066536918"
      ]
     },
     "execution_count": 20,
     "metadata": {},
     "output_type": "execute_result"
    }
   ],
   "source": [
    "from sklearn.metrics import confusion_matrix, accuracy_score\n",
    "cm = confusion_matrix(y_test, y_pred)\n",
    "print(cm)\n",
    "accuracy_score(y_test, y_pred)"
   ]
  }
 ],
 "metadata": {
  "colab": {
   "collapsed_sections": [],
   "name": "Coronavirus_tweets.ipynb",
   "provenance": []
  },
  "kernelspec": {
   "display_name": "Python 3",
   "language": "python",
   "name": "python3"
  },
  "language_info": {
   "codemirror_mode": {
    "name": "ipython",
    "version": 3
   },
   "file_extension": ".py",
   "mimetype": "text/x-python",
   "name": "python",
   "nbconvert_exporter": "python",
   "pygments_lexer": "ipython3",
   "version": "3.8.8"
  }
 },
 "nbformat": 4,
 "nbformat_minor": 1
}
